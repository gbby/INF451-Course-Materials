{
 "cells": [
  {
   "cell_type": "markdown",
   "metadata": {
    "dc": {
     "key": "4"
    },
    "deletable": false,
    "run_control": {
     "frozen": true
    },
    "tags": [
     "context"
    ]
   },
   "source": [
    "## Introduction\n",
    "\n",
    "<p>John Snow’s cholera map served as a visual display of how the disease was perceived during the 1850s as something that was spread due to inhaling certain airborne toxins. Snow’s map however showed the increase in deaths by highlighting the proximity to water pumps. His map served as a design to showcase a workhouse in London’s Soho area, which became affected and led to many deaths, as shown by the black lines on the map. The higher the line in a certain area, the greater the number of deaths. His simplified map only shows one workhouse as well as water pumps in the area which were the cause of these deaths. His map is a simplified way of looking at whether proximity is directly related to deaths.</p>\n",
    "<p><img style=\"float: left;margin:5px 20px 5px 1px\" src=\"https://zuhaziaee.files.wordpress.com/2019/05/original.png?w=1200&h=\"></p>\n"
   ]
  },
  {
   "cell_type": "markdown",
   "metadata": {
    "dc": {
     "key": "11"
    },
    "deletable": false,
    "run_control": {
     "frozen": true
    },
    "tags": [
     "context"
    ]
   },
   "source": [
    "## Redesign Process\n",
    "<p>The process of redesigning Snow’s map involved taking a look at area in which most of the deaths were happening. Snow decided to incorporate a large area of Soho when in reality, the deaths were only taking place near water pumps and the surrounding streets near the “work house”. I decided to highlight this area by drawing a red circle around the original map to make it easier to focus on the data and the information being portrayed. Furthermore, I also decided to colour coordinate the deaths based on gender. I used speculation in order to do this and assumed that the deaths near the workhouse would likely be mostly male, considering this was the 1850s and women were the ones who stayed at home with the kids. The light blue marks on the map represent males while the pink ones are females/kids. For the redesign I also decided to speculate the areas of residence which are the patterned black and white sections within the red circle. This is also why there are many more “female/kid” deaths surrounding these areas in comparison to the men. The final enhancement I added to the Snow map, was marking the water pumps and adding extra water pumps, as indicated by the yellow dots on the map. Only 5 of the yellow dots are the original pumps that Snow indicated on his map. Again through speculation, I decided to add 8 more to emphasize the spread of the disease and have even placed some outside of this highlighted circle. </p>\n",
    "\n",
    "<p><img style=\"float: left;margin:5px 20px 5px 1px\" src=\"https://zuhaziaee.files.wordpress.com/2019/05/after-waterpump.png?w=1000&h=\"></p>"
   ]
  },
  {
   "cell_type": "markdown",
   "metadata": {
    "dc": {
     "key": "4"
    },
    "run_control": {
     "frozen": true
    },
    "tags": [
     "context"
    ]
   },
   "source": [
    "## Initial Idea \n",
    "\n",
    "<p>My goal for the redesign process began with roughly sketching the map and making the changes physically on a piece of paper before I decided to digitally make the changes. I decided to separate the deaths by gender as well as include areas for work and residency, which directly relates to deaths based on gender. I also highlighted the areas where the water pumps appeared.</p>\n",
    "<p><img style=\"float: left;margin:5px 20px 5px 1px\" src=\"https://zuhaziaee.files.wordpress.com/2019/05/img_6254.jpg?w=660\"></p>\n",
    "<p><i>\n"
   ]
  },
  {
   "cell_type": "markdown",
   "metadata": {
    "dc": {
     "key": "4"
    },
    "run_control": {
     "frozen": true
    },
    "tags": [
     "context"
    ]
   },
   "source": [
    "## Phase 1\n",
    "\n",
    "<p>\n",
    "Instead of focusing on Snow’s entire map, I decided to zero in on the area where the deaths were occurring. This map simply shows the changes I had envisioned on paper, as I colour coordinate the deaths; blue for males and pink for females/children. This version of the map does not include the water pumps. </p>\n",
    "<p><img style=\"float: right;margin:5px 20px 5px 1px\" src=\"https://zuhaziaee.files.wordpress.com/2019/05/isolated-.png?w=1200&h=\"></p>"
   ]
  },
  {
   "cell_type": "markdown",
   "metadata": {
    "dc": {
     "key": "4"
    },
    "run_control": {
     "frozen": true
    },
    "tags": [
     "context"
    ]
   },
   "source": [
    "## Phase 2\n",
    "\n",
    "<p>Rather than focusing on the area individually, separate from the entire map, I decided to keep the original map and rather highlight the area where the deaths were occurring. I drew a circle around this area and kept everything else the same. This map however, still does not include or show where the water pumps would be.</p>\n",
    "<p><img style=\"float: left;margin:5px 20px 5px 1px\" src=\"https://zuhaziaee.files.wordpress.com/2019/05/before-waterpump.png?w=1200&h=\"></p>"
   ]
  },
  {
   "cell_type": "markdown",
   "metadata": {
    "dc": {
     "key": "4"
    },
    "run_control": {
     "frozen": true
    },
    "tags": [
     "context"
    ]
   },
   "source": [
    "## Phase 3\n",
    "\n",
    "<p>While Snow had included water pumps on his map, I decided to add a few extra water pumps to the area, as indicated by the yellow dots.</p>\n",
    "<p><img style=\"float: right;margin:5px 20px 5px 1px\" src=\"https://zuhaziaee.files.wordpress.com/2019/05/after-waterpump.png?w=1200&h=\"></p>"
   ]
  },
  {
   "cell_type": "markdown",
   "metadata": {
    "dc": {
     "key": "4"
    },
    "run_control": {
     "frozen": true
    },
    "tags": [
     "context"
    ]
   },
   "source": [
    "## Final Phase\n",
    "\n",
    "<p>The final design I came up with included everything that I mentioned above, as well as a legend. Like Snow’s map which does not contain a legend, my redesign was not going to contain one either, leaving the interpretation of colours up to the viewer, but rather than guessing what the changes were, I decided to include one in order to make it easier to read the data.</p>\n",
    "<p><img style=\"float: left;margin:5px 20px 5px 1px\" src=\"https://zuhaziaee.files.wordpress.com/2019/05/final-map.png?w=1400&h=\"></p>\n"
   ]
  },
  {
   "cell_type": "markdown",
   "metadata": {
    "dc": {
     "key": "4"
    },
    "run_control": {
     "frozen": true
    },
    "tags": [
     "context"
    ]
   },
   "source": [
    "## Comparison\n",
    "\n",
    "<p> A before and after look at Snow’s map in comparison to my redesign.</p>\n",
    "<p><img style=\"float: left;margin:5px 20px 5px 1px\" src=\"https://zuhaziaee.files.wordpress.com/2019/05/comparison.png?w=1400&h=\"></p>"
   ]
  },
  {
   "cell_type": "markdown",
   "metadata": {
    "dc": {
     "key": "18"
    },
    "deletable": false,
    "run_control": {
     "frozen": true
    },
    "tags": [
     "context"
    ]
   },
   "source": [
    "## Thought Process and Reflection \n",
    "\n",
    "<p> There was nothing inherently wrong with John Snow’s original map, however the process of redesign involved a lot of critical reflection in regards to questioning why Snow chose to keep it so simple and not include anything that would highlight key demographics on his map. Snow’s method of data collection involved going door-to-door and gathering information about residents but he never bothered to include things like age or gender on his map but rather simply shaded on areas where deaths were most prevalent. If the main idea is to create a graphic that is easily understandable, since visuals are a universal language then surely indicating things like gender and age would be important pieces of information at the time, if we were to gain a better understanding about the spread of cholera.</p>"
   ]
  },
  {
   "cell_type": "markdown",
   "metadata": {
    "dc": {
     "key": "25"
    },
    "deletable": false,
    "run_control": {
     "frozen": true
    },
    "tags": [
     "context"
    ]
   },
   "source": [
    "## Johanna Drucker and John Snow\n",
    "<p>Looking at the readings of Drucker and Viegas, we can see how Snow’s map along with its redesign serves as a critical piece of information in understanding data and the ways in which we choose to visualize certain aspects of it. Drucker writes that “the standard elements of graphic display for statistical information are simple and limited” (p 6). When looking at Snow’s original map in comparison to its redesign, his simplified version is clean and minimalistic but does not effectively convey the data unlike its redesign. Snow’s black and white map with 2-3 symbols (water pumps, the work house and the squares representing death) hardly gives us any external information. Furthermore, Drucker goes on to discuss the biases that come into play when we work with data sets and redesign according to our own points of view. For Snow, this meant placing a higher emphasis on the number of deaths and the spread of the disease while my speculations in the redesign focused on gender as well as taking into account what areas could potentially be residential.</p>\n"
   ]
  },
  {
   "cell_type": "markdown",
   "metadata": {
    "dc": {
     "key": "32"
    },
    "deletable": false,
    "run_control": {
     "frozen": true
    },
    "tags": [
     "context"
    ]
   },
   "source": [
    "## Conclusion\n",
    "<p>Snow’s creation of clusters near water pumps to indicate deaths caused by cholera in relation to the proximity to a water pump has been regarded as an innovative illustration, but leaves a lot to question such as “how many men and how many women died?”, “were these deaths a direct result of living too close to a water pump or did the disease eventually spread from person to person?”, “why did Snow purposely leave out indicators about whether areas in which deaths occurred were residential or work areas?”  How can the redesign be even better? While this design considers things like gender it fails to take into account the population and accurately depict how many deaths took place in the highlighted areas.  The speculative process behind redesigning Snow’s map began with these questions and ended with the final outcome being a highlighted area as opposed to using the entire map to showcase these deaths. His original map only showed deaths in a particular section of the map which is why working with this area was easier than redesigning the entire map to highlight deaths. By using speculation and imagining male vs female/children deaths I colour coordinated sections on the map that Snow had already drawn. Furthermore, I added a few extra water pumps outside of the highlighted circle as well as imagining residential areas. \n",
    "\n",
    "The process of redesigning Snow’s map further emphasizes Viegas and Wattenberg’s ideas about redesign; no matter how simplified a technique or a visualization may seem, there is always room for improvement. Redesign does not necessarily mean that the visual is bad or that there is something wrong with it. Rather than focusing on the designer as being incompetent and the visual as “stupid” we should look for ways to enhance and emphasize the data in a more meaningful manner. As stated by Drucker, when working with data sets we fail to realize our own biases and therefore cannot see the ways in which we can improve. Perhaps this is why redesign is such a critical component of data visualization. </p>\n"
   ]
  },
  {
   "cell_type": "markdown",
   "metadata": {
    "dc": {
     "key": "39"
    },
    "deletable": false,
    "run_control": {
     "frozen": true
    },
    "tags": [
     "context"
    ]
   },
   "source": []
  },
  {
   "cell_type": "markdown",
   "metadata": {
    "dc": {
     "key": "46"
    },
    "deletable": false,
    "run_control": {
     "frozen": true
    },
    "tags": [
     "context"
    ]
   },
   "source": []
  },
  {
   "cell_type": "markdown",
   "metadata": {
    "dc": {
     "key": "53"
    },
    "deletable": false,
    "run_control": {
     "frozen": true
    },
    "tags": [
     "context"
    ]
   },
   "source": []
  }
 ],
 "metadata": {
  "kernelspec": {
   "display_name": "Python 3",
   "language": "python",
   "name": "python3"
  },
  "language_info": {
   "codemirror_mode": {
    "name": "ipython",
    "version": 3
   },
   "file_extension": ".py",
   "mimetype": "text/x-python",
   "name": "python",
   "nbconvert_exporter": "python",
   "pygments_lexer": "ipython3",
   "version": "3.8.2"
  }
 },
 "nbformat": 4,
 "nbformat_minor": 4
}
