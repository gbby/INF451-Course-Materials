{
 "cells": [
  {
   "cell_type": "code",
   "execution_count": 1,
   "metadata": {},
   "outputs": [],
   "source": [
    "# Template code builds on the example described here: https://residentmario.github.io/geoplot/gallery/plot_minard_napoleon_russia.html\n",
    "\n",
    "# Import the necessary libraries\n",
    "# You will likely need to install a number of these modules/libraries \n",
    "# (e.g. pip install geopandas or conda install geopandas)\n",
    "import geopandas as gpd\n",
    "import geoplot as gplt\n",
    "import matplotlib.pyplot as plt\n",
    "import mplleaflet\n",
    "from matplotlib.colors import LinearSegmentedColormap"
   ]
  },
  {
   "cell_type": "code",
   "execution_count": 2,
   "metadata": {},
   "outputs": [],
   "source": [
    "# Use geopandas to read in the dataset from geoplot (it's included in the library)\n",
    "napoleon_troop_movements = gpd.read_file(gplt.datasets.get_path('napoleon_troop_movements'))"
   ]
  },
  {
   "cell_type": "code",
   "execution_count": 3,
   "metadata": {},
   "outputs": [
    {
     "data": {
      "text/html": [
       "<div>\n",
       "<style scoped>\n",
       "    .dataframe tbody tr th:only-of-type {\n",
       "        vertical-align: middle;\n",
       "    }\n",
       "\n",
       "    .dataframe tbody tr th {\n",
       "        vertical-align: top;\n",
       "    }\n",
       "\n",
       "    .dataframe thead th {\n",
       "        text-align: right;\n",
       "    }\n",
       "</style>\n",
       "<table border=\"1\" class=\"dataframe\">\n",
       "  <thead>\n",
       "    <tr style=\"text-align: right;\">\n",
       "      <th></th>\n",
       "      <th>id</th>\n",
       "      <th>direction</th>\n",
       "      <th>survivors</th>\n",
       "      <th>group</th>\n",
       "      <th>geometry</th>\n",
       "    </tr>\n",
       "  </thead>\n",
       "  <tbody>\n",
       "    <tr>\n",
       "      <th>0</th>\n",
       "      <td>1</td>\n",
       "      <td>0</td>\n",
       "      <td>340000</td>\n",
       "      <td>1</td>\n",
       "      <td>MULTIPOINT (24.50000 55.00000, 24.00000 54.90000)</td>\n",
       "    </tr>\n",
       "    <tr>\n",
       "      <th>1</th>\n",
       "      <td>2</td>\n",
       "      <td>0</td>\n",
       "      <td>340000</td>\n",
       "      <td>1</td>\n",
       "      <td>MULTIPOINT (25.50000 54.50000, 24.50000 55.00000)</td>\n",
       "    </tr>\n",
       "    <tr>\n",
       "      <th>2</th>\n",
       "      <td>3</td>\n",
       "      <td>0</td>\n",
       "      <td>320000</td>\n",
       "      <td>1</td>\n",
       "      <td>MULTIPOINT (26.00000 54.70000, 25.50000 54.50000)</td>\n",
       "    </tr>\n",
       "    <tr>\n",
       "      <th>3</th>\n",
       "      <td>4</td>\n",
       "      <td>0</td>\n",
       "      <td>300000</td>\n",
       "      <td>1</td>\n",
       "      <td>MULTIPOINT (27.00000 54.80000, 26.00000 54.70000)</td>\n",
       "    </tr>\n",
       "    <tr>\n",
       "      <th>4</th>\n",
       "      <td>5</td>\n",
       "      <td>0</td>\n",
       "      <td>280000</td>\n",
       "      <td>1</td>\n",
       "      <td>MULTIPOINT (28.00000 54.90000, 27.00000 54.80000)</td>\n",
       "    </tr>\n",
       "  </tbody>\n",
       "</table>\n",
       "</div>"
      ],
      "text/plain": [
       "  id  direction  survivors  group  \\\n",
       "0  1          0     340000      1   \n",
       "1  2          0     340000      1   \n",
       "2  3          0     320000      1   \n",
       "3  4          0     300000      1   \n",
       "4  5          0     280000      1   \n",
       "\n",
       "                                            geometry  \n",
       "0  MULTIPOINT (24.50000 55.00000, 24.00000 54.90000)  \n",
       "1  MULTIPOINT (25.50000 54.50000, 24.50000 55.00000)  \n",
       "2  MULTIPOINT (26.00000 54.70000, 25.50000 54.50000)  \n",
       "3  MULTIPOINT (27.00000 54.80000, 26.00000 54.70000)  \n",
       "4  MULTIPOINT (28.00000 54.90000, 27.00000 54.80000)  "
      ]
     },
     "execution_count": 3,
     "metadata": {},
     "output_type": "execute_result"
    }
   ],
   "source": [
    "# Take a quick look at the data\n",
    "napoleon_troop_movements.head()"
   ]
  },
  {
   "cell_type": "code",
   "execution_count": 4,
   "metadata": {},
   "outputs": [],
   "source": [
    "# Use a custom colour map to store your colour preferences\n",
    "colors = [(215/255, 193/255, 126/255), (37/255, 37/255, 37/255)]\n",
    "cm = LinearSegmentedColormap.from_list('minard', colors)"
   ]
  },
  {
   "cell_type": "code",
   "execution_count": 5,
   "metadata": {},
   "outputs": [
    {
     "data": {
      "image/png": "[encoded data removed]",
      "text/plain": [
       "<Figure size 576x432 with 1 Axes>"
      ]
     },
     "metadata": {
      "needs_background": "light"
     },
     "output_type": "display_data"
    }
   ],
   "source": [
    "# Set the parameters for your sankey diagram\n",
    "# For reference, a sankey is a type of flow diagram: https://en.wikipedia.org/wiki/Sankey_diagram\n",
    "gplt.sankey(\n",
    "    napoleon_troop_movements,\n",
    "    scale='survivors', limits=(0.5, 45),\n",
    "    hue='direction',\n",
    "    cmap=cm\n",
    ")\n",
    "\n",
    "# See what your sankey will look like\n",
    "fig = plt.gcf()"
   ]
  },
  {
   "cell_type": "code",
   "execution_count": 6,
   "metadata": {},
   "outputs": [],
   "source": [
    "# Use leaflet to create a custom .html file that contains your sankey embedded in a map \n",
    "mplleaflet.save_html(fig, fileobj='minard.html')"
   ]
  }
 ],
 "metadata": {
  "kernelspec": {
   "display_name": "Python 3",
   "language": "python",
   "name": "python3"
  },
  "language_info": {
   "codemirror_mode": {
    "name": "ipython",
    "version": 3
   },
   "file_extension": ".py",
   "mimetype": "text/x-python",
   "name": "python",
   "nbconvert_exporter": "python",
   "pygments_lexer": "ipython3",
   "version": "3.8.5"
  }
 },
 "nbformat": 4,
 "nbformat_minor": 4
}
