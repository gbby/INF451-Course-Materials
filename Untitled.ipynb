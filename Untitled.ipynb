{
 "cells": [
  {
   "cell_type": "markdown",
   "metadata": {},
   "source": [
    "## Let's look at all of Canada"
   ]
  },
  {
   "cell_type": "code",
   "execution_count": 1,
   "metadata": {},
   "outputs": [],
   "source": [
    "import pandas as pd\n",
    "import numpy as np\n",
    "import urllib, json\n",
    "import matplotlib.pyplot as plt\n",
    "import matplotlib.colors as mcolors\n",
    "from mpl_toolkits.mplot3d import Axes3D\n",
    "# from mpl_toolkits.basemap import Basemap\n",
    "from matplotlib.collections import PolyCollection\n",
    "import seaborn as sns\n",
    "import datetime as dt\n",
    "import geopandas as gpd\n",
    "import folium\n",
    "from shapely.geometry import Point, Polygon\n",
    "\n",
    "# set the standard plot size\n",
    "plt.rcParams['figure.figsize']=(30,15)"
   ]
  },
  {
   "cell_type": "code",
   "execution_count": null,
   "metadata": {},
   "outputs": [],
   "source": [
    "# this dataset module appears to be dead. too bad, since it renders simple plotly graphs.\n",
    "# https://pypi.org/project/pycovid/\n",
    "from pycovid import pycovid\n",
    "pycovid.plot_provinces(\n",
    "    country=['Canada'], \n",
    "    provinces=['Alberta', \n",
    "               'Ontario', \n",
    "               'Quebec', \n",
    "               'Manitoba', \n",
    "               'British Columbia', \n",
    "               'New Brunswick', \n",
    "               'Saskatchewan'],\n",
    "    casetype=['confirmed'], \n",
    "    start_date=\"2020-02-20\", \n",
    "    plottype=\"linear\")"
   ]
  },
  {
   "cell_type": "code",
   "execution_count": null,
   "metadata": {},
   "outputs": [],
   "source": [
    "# here's another dataset module. this one is updated, but you'll have to visualize from scratch.\n",
    "# https://pypi.org/project/covid/\n",
    "from covid import Covid"
   ]
  },
  {
   "cell_type": "code",
   "execution_count": null,
   "metadata": {},
   "outputs": [],
   "source": [
    "covid = Covid()\n",
    "covid.get_data();"
   ]
  },
  {
   "cell_type": "code",
   "execution_count": null,
   "metadata": {},
   "outputs": [],
   "source": [
    "canada_cases = covid.get_status_by_country_name(\"canada\")\n",
    "canada_cases"
   ]
  },
  {
   "cell_type": "code",
   "execution_count": null,
   "metadata": {},
   "outputs": [],
   "source": []
  }
 ],
 "metadata": {
  "kernelspec": {
   "display_name": "Python 3",
   "language": "python",
   "name": "python3"
  },
  "language_info": {
   "codemirror_mode": {
    "name": "ipython",
    "version": 3
   },
   "file_extension": ".py",
   "mimetype": "text/x-python",
   "name": "python",
   "nbconvert_exporter": "python",
   "pygments_lexer": "ipython3",
   "version": "3.8.5"
  }
 },
 "nbformat": 4,
 "nbformat_minor": 4
}
